{
 "cells": [
  {
   "cell_type": "markdown",
   "id": "af81bd01",
   "metadata": {},
   "source": [
    "## Using ML Projects File"
   ]
  },
  {
   "cell_type": "markdown",
   "id": "08cfa85d",
   "metadata": {},
   "source": [
    "https://github.com/mlflow/mlflow-example"
   ]
  },
  {
   "cell_type": "code",
   "execution_count": null,
   "id": "f9fe91d3",
   "metadata": {},
   "outputs": [],
   "source": [
    "import mlflow"
   ]
  },
  {
   "cell_type": "code",
   "execution_count": null,
   "id": "5cf4ca75",
   "metadata": {},
   "outputs": [],
   "source": [
    "# using ml projects and tracking the runs as a new experiment\n",
    "\n",
    "# use set experiment method to either create a new experiment or set it as the experiment to record runs\n",
    "mlflow.set_experiment('ProjectsFileExample')"
   ]
  },
  {
   "cell_type": "code",
   "execution_count": null,
   "id": "7daae1ca",
   "metadata": {},
   "outputs": [],
   "source": [
    "project_uri = \"https://github.com/mlflow/mlflow-example\"\n",
    "params = {\"alpha\": 0.5, \"l1_ratio\": 0.01}\n",
    "\n",
    "# Run MLflow project and create a reproducible conda environment\n",
    "# on a local host\n",
    "mlflow.run(project_uri, parameters=params)"
   ]
  },
  {
   "cell_type": "code",
   "execution_count": null,
   "id": "2c7a1831",
   "metadata": {},
   "outputs": [],
   "source": [
    "project_uri = \"https://github.com/mlflow/mlflow-example\"\n",
    "params = {\"alpha\": 0.2, \"l1_ratio\": 0.01}\n",
    "\n",
    "# running again with different parameters\n",
    "mlflow.run(project_uri, parameters=params, experiment_name='ProjectsFileExample')"
   ]
  },
  {
   "cell_type": "code",
   "execution_count": null,
   "id": "2dbeb8b4",
   "metadata": {},
   "outputs": [],
   "source": []
  }
 ],
 "metadata": {
  "kernelspec": {
   "display_name": "Python 3",
   "language": "python",
   "name": "python3"
  },
  "language_info": {
   "codemirror_mode": {
    "name": "ipython",
    "version": 3
   },
   "file_extension": ".py",
   "mimetype": "text/x-python",
   "name": "python",
   "nbconvert_exporter": "python",
   "pygments_lexer": "ipython3",
   "version": "3.8.8"
  }
 },
 "nbformat": 4,
 "nbformat_minor": 5
}
