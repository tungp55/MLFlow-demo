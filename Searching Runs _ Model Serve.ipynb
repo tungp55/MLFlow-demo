{
 "cells": [
  {
   "cell_type": "markdown",
   "id": "df0aae0a",
   "metadata": {},
   "source": [
    "## Searching runs"
   ]
  },
  {
   "cell_type": "code",
   "execution_count": null,
   "id": "125ce43c",
   "metadata": {},
   "outputs": [],
   "source": [
    "import mlflow\n",
    "import pandas as pd"
   ]
  },
  {
   "cell_type": "code",
   "execution_count": null,
   "id": "4a1735c5",
   "metadata": {
    "scrolled": true
   },
   "outputs": [],
   "source": [
    "# the search_runs method by default returns a dataframe of of the runs executed under a particular experiment ID\n",
    "mlflow.search_runs(['0'])"
   ]
  },
  {
   "cell_type": "code",
   "execution_count": null,
   "id": "d00f235d",
   "metadata": {},
   "outputs": [],
   "source": [
    "# these runs can be queried by passing in an additional parameter\n",
    "\n",
    "search_query = 'metrics.rmse < 3.27 and metrics.mae < 2.45'\n",
    "mlflow.search_runs(['0'], search_query)"
   ]
  },
  {
   "cell_type": "code",
   "execution_count": null,
   "id": "f38d7058",
   "metadata": {},
   "outputs": [],
   "source": [
    "# the output can be read as a dataframe, which can be used for further analysis\n",
    "\n",
    "search_query = 'metrics.rmse < 3.27 and metrics.mae < 2.45'\n",
    "df = mlflow.search_runs(['0'], search_query)\n",
    "df.head()"
   ]
  },
  {
   "cell_type": "code",
   "execution_count": null,
   "id": "ef8a2650",
   "metadata": {
    "scrolled": true
   },
   "outputs": [],
   "source": [
    "print ('Run IDs with least MAE are: \\n')\n",
    "\n",
    "for run in df['run_id'][df['metrics.mae']==df['metrics.mae'].min()].values:\n",
    "    print(run, end=', ' )"
   ]
  },
  {
   "cell_type": "markdown",
   "id": "bf76a8b7",
   "metadata": {},
   "source": [
    "## Getting details of a run"
   ]
  },
  {
   "cell_type": "code",
   "execution_count": null,
   "id": "857b217d",
   "metadata": {},
   "outputs": [],
   "source": [
    "client = mlflow.tracking.MlflowClient()"
   ]
  },
  {
   "cell_type": "code",
   "execution_count": null,
   "id": "3a12568a",
   "metadata": {},
   "outputs": [],
   "source": [
    "client.get_run('6872d876df034cd0b0b690fdbeb2d427')"
   ]
  },
  {
   "cell_type": "markdown",
   "id": "141167b6",
   "metadata": {},
   "source": [
    "## Serving the model"
   ]
  },
  {
   "cell_type": "markdown",
   "id": "7db42e9f",
   "metadata": {},
   "source": [
    "### Terminal command to initiate model serving\n",
    "\n",
    "mlflow models serve --model-uri mlruns/{experiment_id}/{run_id}/artifacts/{model_name} -p {port}"
   ]
  },
  {
   "cell_type": "code",
   "execution_count": null,
   "id": "de41c923",
   "metadata": {
    "scrolled": false
   },
   "outputs": [],
   "source": [
    "# filling in the required details\n",
    "\n",
    "!mlflow models serve --model-uri mlruns/0/6872d876df034cd0b0b690fdbeb2d427/artifacts/PlainRegression_Model -p 5600"
   ]
  },
  {
   "cell_type": "markdown",
   "id": "fc665f54",
   "metadata": {},
   "source": [
    "# CURL Command to post requests\n",
    "\n",
    "curl http://127.0.0.1:{port_number}/invocations -H 'Content-Type: application/json' -d '{\n",
    "    \"columns\": ['col1', 'col2', 'col3', 'col4', 'col5'],\n",
    "    \"data\": [[x1, x2, x3, x4, x5], [b1, b2, b3, b4, b5]]\n",
    "}'"
   ]
  },
  {
   "cell_type": "code",
   "execution_count": null,
   "id": "a62041a1",
   "metadata": {},
   "outputs": [],
   "source": [
    "!curl http://127.0.0.1:5600/invocations -H 'Content-Type: application/json' -d '{ \"columns\": [\"cylinders\", \"displacement\", \"horsepower\", \"weight\", \"acceleration\", \"model_year\", \"origin\"], \"data\": [[8, 350.0, 165.0, 3693.0, 11.5, 70, 1]] }'"
   ]
  },
  {
   "cell_type": "code",
   "execution_count": null,
   "id": "23716e34",
   "metadata": {},
   "outputs": [],
   "source": []
  }
 ],
 "metadata": {
  "kernelspec": {
   "display_name": "Python 3",
   "language": "python",
   "name": "python3"
  },
  "language_info": {
   "codemirror_mode": {
    "name": "ipython",
    "version": 3
   },
   "file_extension": ".py",
   "mimetype": "text/x-python",
   "name": "python",
   "nbconvert_exporter": "python",
   "pygments_lexer": "ipython3",
   "version": "3.8.8"
  }
 },
 "nbformat": 4,
 "nbformat_minor": 5
}
